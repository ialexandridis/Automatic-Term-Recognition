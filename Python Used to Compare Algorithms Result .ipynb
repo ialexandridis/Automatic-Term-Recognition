{
  "metadata": {
    "kernelspec": {
      "name": "python",
      "display_name": "Python (Pyodide)",
      "language": "python"
    },
    "language_info": {
      "codemirror_mode": {
        "name": "python",
        "version": 3
      },
      "file_extension": ".py",
      "mimetype": "text/x-python",
      "name": "python",
      "nbconvert_exporter": "python",
      "pygments_lexer": "ipython3",
      "version": "3.8"
    }
  },
  "nbformat_minor": 5,
  "nbformat": 4,
  "cells": [
    {
      "cell_type": "code",
      "source": "### Give 2 files to return the common words stored in a new file\n### In file1 the words of the special text that are tagged with YES\n### In file2 the words you got from Weka (predictions)\n## In file3 you put the name of the file where you want the terms given by WEKA to be saved AND they are real terms\nfile1 = open(\"special corpora.txt\", \"r\")\nfile2 = open(\"predictions.txt\", \"r\")\nfile3 = open(\"results.txt\", \"+w\")\n\nfile1.seek(0,0)\nfile2.seek(0,0)\n\nlist1 = file1.readlines()\nlist2 = file2.readlines()\ny = 0\nfor i in list1:\n    for j in list2:\n        if i == j:\n            file3.write(i)\n            y=y+1\n\na= len(list2)\nprint(\"Number of words identified as terms by the algorithm:\", a)\nprint(\"Actual number of terms:\", y )            \n            ",
      "metadata": {},
      "execution_count": null,
      "outputs": [],
      "id": "df94b347"
    },
    {
      "cell_type": "code",
      "source": "",
      "metadata": {},
      "execution_count": null,
      "outputs": [],
      "id": "cbba3a5b"
    },
    {
      "cell_type": "code",
      "source": "",
      "metadata": {},
      "execution_count": null,
      "outputs": [],
      "id": "9a6d4190"
    }
  ]
}